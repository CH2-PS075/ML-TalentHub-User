{
  "cells": [
    {
      "cell_type": "code",
      "execution_count": null,
      "metadata": {
        "id": "QyY2VhPC9swg"
      },
      "outputs": [],
      "source": [
        "import pandas as pd\n",
        "import numpy as np\n",
        "import pickle as pkl"
      ]
    },
    {
      "cell_type": "markdown",
      "source": [
        "# making class similarity"
      ],
      "metadata": {
        "id": "6kAttAJHMFMz"
      }
    },
    {
      "cell_type": "code",
      "execution_count": null,
      "metadata": {
        "id": "iqpnI7w29swk"
      },
      "outputs": [],
      "source": [
        "class Similarity:\n",
        "\n",
        "    def __init__(self,\n",
        "                 arrays,\n",
        "                 choice='cosine'):\n",
        "\n",
        "        self.vector = arrays\n",
        "        self.choice = choice\n",
        "        assert self.vector.shape == (5,)\n",
        "\n",
        "    # using cosine similarity algorithm\n",
        "    def cosine(self, vectors):\n",
        "\n",
        "        result = np.array([])\n",
        "\n",
        "        for vector in vectors:\n",
        "            dot_product = np.dot(self.vector, vector)\n",
        "            norm_vector = np.linalg.norm(self.vector)\n",
        "            norm_vector2 = np.linalg.norm(vector)\n",
        "\n",
        "            cosine_similarity = dot_product / (norm_vector * norm_vector2)\n",
        "            result = np.append(result, [cosine_similarity])\n",
        "\n",
        "        return result\n",
        "\n",
        "    # using euclidean distance algorithm\n",
        "    def euclidean(self, vectors):\n",
        "\n",
        "        result = np.array([])\n",
        "\n",
        "        for vector in vectors:\n",
        "            euclidean_distance = np.linalg.norm(self.vector - vector)\n",
        "            result = np.append(result, [euclidean_distance])\n",
        "\n",
        "        return result\n",
        "\n",
        "    # start to find similarity\n",
        "    def find_similiarity(self, vectors):\n",
        "\n",
        "        if self.choice == \"cosine\":\n",
        "            result = self.cosine(vectors)\n",
        "\n",
        "        if self.choice == \"euclidean\":\n",
        "            result = self.euclidean(vectors)\n",
        "\n",
        "        return result"
      ]
    },
    {
      "cell_type": "markdown",
      "source": [
        "# making class recommendation"
      ],
      "metadata": {
        "id": "liXfRdifMHgv"
      }
    },
    {
      "cell_type": "code",
      "execution_count": null,
      "metadata": {
        "id": "sguo9abu9swl"
      },
      "outputs": [],
      "source": [
        "class Recommendation:\n",
        "\n",
        "    def __init__(self,\n",
        "                 df,\n",
        "                 cols,\n",
        "                 vector,\n",
        "                 choice='cosine'):\n",
        "\n",
        "        self.vector = vector\n",
        "        self.cols = cols\n",
        "        self.data = df[self.cols].values\n",
        "        self.choice = choice\n",
        "\n",
        "        assert len(cols) == len(vector)\n",
        "\n",
        "    # find recommendation by calling class similarity\n",
        "    def find_recommendation(self, amount):\n",
        "\n",
        "        self.vector = np.array(self.vector)\n",
        "        similarity = Similarity(self.vector, choice=self.choice)\n",
        "        df = pd.DataFrame(self.data,\n",
        "                          columns=self.cols)\n",
        "        df['similarity'] = similarity.find_similiarity(self.data)\n",
        "\n",
        "        if self.choice == 'cosine':\n",
        "            df = df.sort_values('similarity', ascending=False).drop(columns=['similarity']).tail(-1)\n",
        "            return df.head(amount)\n",
        "\n",
        "        if self.choice == 'euclidean':\n",
        "            df = df.sort_values('similarity', ascending=True).drop(columns=['similarity']).tail(-1)\n",
        "            return df.head(amount)"
      ]
    },
    {
      "cell_type": "code",
      "execution_count": null,
      "metadata": {
        "id": "EwR6PXrN9swl"
      },
      "outputs": [],
      "source": [
        "import mysql.connector as sql"
      ]
    },
    {
      "cell_type": "markdown",
      "source": [],
      "metadata": {
        "id": "wNVCneBsMLp3"
      }
    },
    {
      "cell_type": "code",
      "execution_count": null,
      "metadata": {
        "id": "MCCzouiR9swm"
      },
      "outputs": [],
      "source": [
        "def fetch_db(host, user, password, database):\n",
        "\n",
        "    mydb = sql.connect(\n",
        "        host=host,\n",
        "        user=user,\n",
        "        password=password,\n",
        "        database=database\n",
        "      )\n",
        "\n",
        "    cursor = mydb.cursor()\n",
        "\n",
        "    query = '''SELECT `talentName`, `email`, `latitude`, `longitude`,\n",
        "              `price`, `categoryId`, `quantity` from tb_talents'''\n",
        "\n",
        "    query_long = '''SELECT max(`talentId`) from tb_talents'''\n",
        "\n",
        "    cursor.execute(query_long)\n",
        "    length = cursor.fetchmany()[0][0]\n",
        "\n",
        "    cursor.execute(query)\n",
        "    result = cursor.fetchmany(size=length)\n",
        "\n",
        "    mydb.close()\n",
        "    return result"
      ]
    },
    {
      "cell_type": "code",
      "execution_count": null,
      "metadata": {
        "id": "Be-xKZjg9swm"
      },
      "outputs": [],
      "source": [
        "# find the recommendation by top 10 most similar result (json formatted)\n",
        "def json_result(fetch_result, vector):\n",
        "\n",
        "    quantity = {\"single\":0,\n",
        "            \"duo\":1,\n",
        "            \"group\":2}\n",
        "\n",
        "    df = {'name':np.array([]),\n",
        "        'email':np.array([]),\n",
        "        'latitude':np.array([]),\n",
        "        'longitude':np.array([]),\n",
        "        'price':np.array([]),\n",
        "        'category':np.array([]),\n",
        "        'quantity':np.array([])}\n",
        "\n",
        "    for i in fetch_result:\n",
        "\n",
        "        (name, email, latitude, longitude, price, category, qty) = i\n",
        "        df['name'] = np.append(df['name'], name)\n",
        "        df['email'] = np.append(df['email'], email)\n",
        "        df['latitude'] = np.append(df['latitude'], latitude)\n",
        "        df['longitude'] = np.append(df['longitude'], longitude)\n",
        "        df['price'] = np.append(df['price'], price)\n",
        "        df['category'] = np.append(df['category'], category)\n",
        "        df['quantity'] = np.append(df['quantity'], quantity[qty])\n",
        "\n",
        "    df = pd.DataFrame(df)\n",
        "    df_test = df[df.columns[2:]]\n",
        "    recc = Recommendation(df_test,\n",
        "                        df_test.columns,\n",
        "                        vector,\n",
        "                        choice='cosine')\n",
        "\n",
        "    result = recc.find_recommendation(10).reset_index()\n",
        "    result = df[df.columns[:2]].reset_index().merge(result, on='index').drop(columns=['index'])\n",
        "    result = result.to_json()\n",
        "\n",
        "    return result"
      ]
    },
    {
      "cell_type": "code",
      "execution_count": null,
      "metadata": {
        "id": "UooZ4lfD9swn"
      },
      "outputs": [],
      "source": [
        "import os\n",
        "import pandas as pd\n",
        "import numpy as np\n",
        "from flask import Flask, jsonify, request\n",
        "\n",
        "# making flask app\n",
        "app = Flask(name)\n",
        "app.config['UPLOAD_FOLDER'] = 'static/uploads/'\n",
        "app.config['RESPONSE'] = 'response.json'\n",
        "\n",
        "host=\"localhost\"\n",
        "user=\"root\"\n",
        "password=\"\"\n",
        "database=\"db_talent\"\n",
        "\n",
        "result = fetch_db(host, user, password, database)\n",
        "\n",
        "def json_data(db_result, vector):\n",
        "\n",
        "    json = json_result(db_result, vector)\n",
        "    return json\n",
        "\n",
        "\n",
        "@app.route(\"/\")\n",
        "def index():\n",
        "    return \"Hello World!\"\n",
        "\n",
        "\n",
        "@app.route(\"/prediction\", methods=[\"POST\"])\n",
        "def prediction_route():\n",
        "    if request.method == \"POST\":\n",
        "\n",
        "        json = request.json\n",
        "        if json is not None:\n",
        "            vector = np.array([json['latutude'],\n",
        "                           json['longitude'],\n",
        "                           json['price'],\n",
        "                           json['category'],\n",
        "                           json['quantity'],])\n",
        "            json_vector = json_data(result, vector)\n",
        "\n",
        "            return jsonify({\n",
        "                \"status\": {\n",
        "                    \"code\": 200,\n",
        "                    \"message\": \"Success predicting\"\n",
        "                },\n",
        "                \"data\": {\n",
        "                    \"recommendation\": json_vector,\n",
        "                }\n",
        "            }), 200\n",
        "        else:\n",
        "            return jsonify({\n",
        "                \"status\": {\n",
        "                    \"code\": 400,\n",
        "                    \"message\": \"Text should not be none.\"\n",
        "                },\n",
        "                \"data\": None,\n",
        "            }), 400\n",
        "    else:\n",
        "        return jsonify({\n",
        "            \"status\": {\n",
        "                \"code\": 405,\n",
        "                \"message\": \"Method not allowed\"\n",
        "            },\n",
        "            \"data\": None,\n",
        "        }), 405\n",
        "\n",
        "\n",
        "if __name__ == \"main\":\n",
        "    app.run(debug=True,\n",
        "            host=\"0.0.0.0\",\n",
        "            port=int(os.environ.get(\"PORT\", 8080)))"
      ]
    }
  ],
  "metadata": {
    "kernelspec": {
      "display_name": "Python 3 (ipykernel)",
      "language": "python",
      "name": "python3"
    },
    "language_info": {
      "codemirror_mode": {
        "name": "ipython",
        "version": 3
      },
      "file_extension": ".py",
      "mimetype": "text/x-python",
      "name": "python",
      "nbconvert_exporter": "python",
      "pygments_lexer": "ipython3",
      "version": "3.8.4"
    },
    "colab": {
      "provenance": []
    }
  },
  "nbformat": 4,
  "nbformat_minor": 0
}